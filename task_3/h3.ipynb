{
 "cells": [
  {
   "cell_type": "markdown",
   "metadata": {},
   "source": [
    "Tal Melnikov: 206961377\n",
    "\n",
    "Omri Chen Yosef : 311148720"
   ]
  },
  {
   "cell_type": "code",
   "execution_count": 2,
   "metadata": {},
   "outputs": [
    {
     "name": "stderr",
     "output_type": "stream",
     "text": [
      "c:\\Users\\talme\\Lib\\site-packages\\tqdm\\auto.py:21: TqdmWarning: IProgress not found. Please update jupyter and ipywidgets. See https://ipywidgets.readthedocs.io/en/stable/user_install.html\n",
      "  from .autonotebook import tqdm as notebook_tqdm\n"
     ]
    },
    {
     "name": "stdout",
     "output_type": "stream",
     "text": [
      "WARNING:tensorflow:From c:\\Users\\talme\\Lib\\site-packages\\tf_keras\\src\\losses.py:2976: The name tf.losses.sparse_softmax_cross_entropy is deprecated. Please use tf.compat.v1.losses.sparse_softmax_cross_entropy instead.\n",
      "\n"
     ]
    },
    {
     "name": "stderr",
     "output_type": "stream",
     "text": [
      "[nltk_data] Downloading package punkt to\n",
      "[nltk_data]     C:\\Users\\talme\\AppData\\Roaming\\nltk_data...\n",
      "[nltk_data]   Package punkt is already up-to-date!\n",
      "[nltk_data] Downloading package stopwords to\n",
      "[nltk_data]     C:\\Users\\talme\\AppData\\Roaming\\nltk_data...\n",
      "[nltk_data]   Package stopwords is already up-to-date!\n",
      "[nltk_data] Downloading package wordnet to\n",
      "[nltk_data]     C:\\Users\\talme\\AppData\\Roaming\\nltk_data...\n",
      "[nltk_data]   Package wordnet is already up-to-date!\n"
     ]
    },
    {
     "data": {
      "text/plain": [
       "True"
      ]
     },
     "execution_count": 2,
     "metadata": {},
     "output_type": "execute_result"
    }
   ],
   "source": [
    "import nltk\n",
    "import pandas as pd\n",
    "from collections import Counter\n",
    "import re\n",
    "from spacy.tokenizer import Tokenizer\n",
    "from spacy.lang.en import English\n",
    "from nltk.stem import WordNetLemmatizer\n",
    "from nltk.stem import PorterStemmer\n",
    "import requests\n",
    "from nltk.probability import FreqDist\n",
    "from nltk.tokenize import word_tokenize, sent_tokenize\n",
    "import contractions\n",
    "import string\n",
    "from nltk.corpus import stopwords\n",
    "from sklearn.feature_extraction.text import TfidfVectorizer\n",
    "import numpy as np\n",
    "import tensorflow as tf\n",
    "from tensorflow.keras.preprocessing.text import Tokenizer\n",
    "from tensorflow.keras.preprocessing.sequence import pad_sequences\n",
    "from tensorflow.keras.models import Sequential\n",
    "from tensorflow.keras.layers import Embedding, LSTM, Dense,SimpleRNN\n",
    "from transformers import pipeline\n",
    "import matplotlib.pyplot as plt\n",
    "from transformers import TFGPT2LMHeadModel, GPT2Tokenizer\n",
    "# Download necessary NLTK data\n",
    "nltk.download('punkt')\n",
    "nltk.download('stopwords')\n",
    "nltk.download('wordnet')\n"
   ]
  },
  {
   "cell_type": "code",
   "execution_count": 3,
   "metadata": {},
   "outputs": [],
   "source": [
    "with open(\"data.txt\",\"r\",encoding='utf-8') as file:\n",
    "    text=file.read()"
   ]
  },
  {
   "cell_type": "code",
   "execution_count": 4,
   "metadata": {},
   "outputs": [],
   "source": [
    "def normalize_text(text):\n",
    "    text=text.lower()\n",
    "    text = contractions.fix(text)\n",
    "    text = text.translate(str.maketrans('', '', string.punctuation))\n",
    "    stop_words = set(stopwords.words('english'))\n",
    "    text = ' '.join([word for word in text.split() if word not in stop_words])\n",
    "    lemmatizer = WordNetLemmatizer()\n",
    "    text = ' '.join([lemmatizer.lemmatize(word) for word in text.split()])\n",
    "    return text"
   ]
  },
  {
   "cell_type": "code",
   "execution_count": 5,
   "metadata": {},
   "outputs": [
    {
     "name": "stdout",
     "output_type": "stream",
     "text": [
      "israeli prime minister benjamin netanyahu said sunday “intense phase war hamas gaza end” military’s focus could shift israel’s northern border lebanon fighting iranbacked group hezbollah intensified recent week\n",
      "netanyahu however vowed israel would continue operating gaza militant group hamas eliminated\n",
      "“it mean war going end war current stage going end rafah\n",
      "true\n",
      "continue mowing grass later” netanyahu told channel 14 television first oneonone interview local israeli medium since october 7\n",
      "million palestinian taking shelter rafah israel started air ground operation southern gazan city defying call international community proceed\n",
      "around 800000 people since displaced rafah condition described united nation food agency “apocalyptic” city’s border crossing egypt — vital entry point humanitarian aid — remained closed since israeli military seized early last month\n",
      "international pressure israel’s action gaza mounted since started operation rafah\n",
      "last month un’s top court ordered israel immediately halt controversial military operation calling humanitarian situation “disastrous” netanyahu also weighed ongoing negotiation end war saying ready make “a partial deal” hamas return hostage still held captive gaza reiterating position war still continue ceasefire “to achieve goal eliminating” hamas\n",
      "“i ready give up” netanyahu said\n",
      "netanyahu’s comment odds aim broader proposal outlined u president joe biden last month\n",
      "plan u said israeli one set condition intended lead eventual release remaining hostage return permanent ceasefire withdrawal israeli force\n",
      "israeli opposition politician gadi eisenkot said netanyahu’s remark “partial deal” contradicted wish country’s recentlydisbanded war cabinet eisenkot member\n",
      "“a deal one step socalled ‘all all’ complete deal three step\n",
      "cabinet voted unanimously\n",
      "prime minister’s statement partial deal war cabinet’s decision” eisenkot told knesset foreign affair committee monday\n",
      "“i think requires clarification light turmoil cause family hostages” eisenkot – along centrist opposition figure benny gantz – resigned war cabinet week netanyahu dissolved said remark damaged israel’s war objective\n",
      "“the damage course failure realize goal war fatal damage national strength state israel” said\n",
      "“there soldier fighting war goal return hostage therefore think immediate clarification prime minister required meant” israeli prime minister benjamin netanyahu pictured june 18 defended decision make public comment u weapon supply\n",
      "related article netanyahu defends decision go public complaint u weapon supply short statement issued interview sunday netanyahu’s office sought clarify comment saying hamas opposes deal israel\n",
      "“prime minister netanyahu made clear leave gaza return 120 hostage living deceased” said\n",
      "seeking row back explosive comment even netanyahu monday told knesset “we committed israeli proposal president biden welcomed\n",
      "position changed” hostage family forum headquarters condemned suggestion withdrawal without securing return hostage\n",
      "“the end fighting gaza strip without release hostage unprecedented national failure failure meet goal war” forum said statement monday\n",
      "prime minister faced nationwide protest israel calling ceasefire gaza return hostage\n",
      "saturday family hostage took part ongoing antigovernment protest including tel aviv jerusalem herzliya caesarea raanana be’er sheva kiryat gat town pardes hannakarkur\n",
      "many protester demanded government accept hostage release deal\n",
      "crack also appear deepening israeli government military\n",
      "netanyahu come increasing pressure member government israel’s ally including united state devise strategy postwar governance gaza israel’s devastating bombardment isolated enclave\n",
      "response prime minister’s comment hamas said word used netanyahu show looking partial agreement end war gaza\n",
      "netanyahu’s position “a clear confirmation rejection recent security council resolution proposal u president joe biden” hamas said statement\n",
      "hamas continues insist agreement include “a clear affirmation permanent ceasefire complete withdrawal gaza strip” shifting north netanyahu also told channel 14 television “after end intense phase possibility shift power north it” “first protection purpose secondly bring resident home well\n",
      "politically would great\n",
      "another way bring everyone back home – resident north south” added\n",
      "hezbollah iranbacked islamist movement one powerful paramilitary force middle east carrying deadly attack southern lebanon targeting area northern israel since october 8 day hamas attack israel\n",
      "israel responded hezbollah’s attack strike killed hezbollah militant among senior commander\n",
      "ten thousand israeli evacuated home northern israel due ongoing conflict\n",
      "village across southern lebanon also emptied\n",
      "increase crossborder attack recent week intensified concern possible outbreak another fullfledged conflict middle east\n",
      "al khiam lebanon june 21 smoke rise israeli army carry attack al khiam region nabatieh governorate southern lebanon june 21 2024\n",
      "photo ramiz dallahanadolu via getty image related article u offer assurance israel week event fullblown war hezbollah israeli official told u planning shift resource southern gaza northern israel preparation possible offensive group u official told cnn wednesday\n",
      "implication wider war israel hezbollah could devastating senior u official previously told cnn\n",
      "u official serious concern event fullblown war israel hezbollah iranbacked militant group could overwhelm israel’s air defense north — including muchvaunted iron dome air defense system\n",
      "netanyahu also asked interview solution ending conflict hezbollah via agreement war\n",
      "prime minister responded “look agreement agreement according term\n",
      "term ending war leaving gaza leaving hamas intact\n",
      "refuse leave hamas intact\n",
      "need eliminate them” israel launched war gaza following hamas attack october 7 militant killed 1200 people took 250 hostage\n",
      "since israeli campaign killed 37000 people according ministry health gaza\n"
     ]
    }
   ],
   "source": [
    "sentences=sent_tokenize(text)\n",
    "normalized_sentences = [normalize_text(sentence) for sentence in sentences]\n",
    "for sentence in normalized_sentences:\n",
    "    print(sentence)"
   ]
  },
  {
   "cell_type": "code",
   "execution_count": 6,
   "metadata": {},
   "outputs": [
    {
     "name": "stdout",
     "output_type": "stream",
     "text": [
      "         120      1200        14        18      2024        21       250  \\\n",
      "0   0.000000  0.000000  0.000000  0.000000  0.000000  0.000000  0.000000   \n",
      "1   0.000000  0.000000  0.000000  0.000000  0.000000  0.000000  0.000000   \n",
      "2   0.000000  0.000000  0.000000  0.000000  0.000000  0.000000  0.000000   \n",
      "3   0.000000  0.000000  0.000000  0.000000  0.000000  0.000000  0.000000   \n",
      "4   0.000000  0.000000  0.251239  0.000000  0.000000  0.000000  0.000000   \n",
      "5   0.000000  0.000000  0.000000  0.000000  0.000000  0.000000  0.000000   \n",
      "6   0.000000  0.000000  0.000000  0.000000  0.000000  0.000000  0.000000   \n",
      "7   0.000000  0.000000  0.000000  0.000000  0.000000  0.000000  0.000000   \n",
      "8   0.000000  0.000000  0.000000  0.000000  0.000000  0.000000  0.000000   \n",
      "9   0.000000  0.000000  0.000000  0.000000  0.000000  0.000000  0.000000   \n",
      "10  0.000000  0.000000  0.000000  0.000000  0.000000  0.000000  0.000000   \n",
      "11  0.000000  0.000000  0.000000  0.000000  0.000000  0.000000  0.000000   \n",
      "12  0.000000  0.000000  0.000000  0.000000  0.000000  0.000000  0.000000   \n",
      "13  0.000000  0.000000  0.000000  0.000000  0.000000  0.000000  0.000000   \n",
      "14  0.000000  0.000000  0.000000  0.000000  0.000000  0.000000  0.000000   \n",
      "15  0.000000  0.000000  0.000000  0.000000  0.000000  0.000000  0.000000   \n",
      "16  0.000000  0.000000  0.000000  0.000000  0.000000  0.000000  0.000000   \n",
      "17  0.000000  0.000000  0.000000  0.000000  0.000000  0.000000  0.000000   \n",
      "18  0.000000  0.000000  0.000000  0.207033  0.000000  0.000000  0.000000   \n",
      "19  0.000000  0.000000  0.000000  0.000000  0.000000  0.000000  0.000000   \n",
      "20  0.350843  0.000000  0.000000  0.000000  0.000000  0.000000  0.000000   \n",
      "21  0.000000  0.000000  0.000000  0.000000  0.000000  0.000000  0.000000   \n",
      "22  0.000000  0.000000  0.000000  0.000000  0.000000  0.000000  0.000000   \n",
      "23  0.000000  0.000000  0.000000  0.000000  0.000000  0.000000  0.000000   \n",
      "24  0.000000  0.000000  0.000000  0.000000  0.000000  0.000000  0.000000   \n",
      "25  0.000000  0.000000  0.000000  0.000000  0.000000  0.000000  0.000000   \n",
      "26  0.000000  0.000000  0.000000  0.000000  0.000000  0.000000  0.000000   \n",
      "27  0.000000  0.000000  0.000000  0.000000  0.000000  0.000000  0.000000   \n",
      "28  0.000000  0.000000  0.000000  0.000000  0.000000  0.000000  0.000000   \n",
      "29  0.000000  0.000000  0.000000  0.000000  0.000000  0.000000  0.000000   \n",
      "30  0.000000  0.000000  0.000000  0.000000  0.000000  0.000000  0.000000   \n",
      "31  0.000000  0.000000  0.162380  0.000000  0.000000  0.000000  0.000000   \n",
      "32  0.000000  0.000000  0.000000  0.000000  0.000000  0.000000  0.000000   \n",
      "33  0.000000  0.000000  0.000000  0.000000  0.000000  0.000000  0.000000   \n",
      "34  0.000000  0.000000  0.000000  0.000000  0.000000  0.000000  0.000000   \n",
      "35  0.000000  0.000000  0.000000  0.000000  0.000000  0.000000  0.000000   \n",
      "36  0.000000  0.000000  0.000000  0.000000  0.000000  0.000000  0.000000   \n",
      "37  0.000000  0.000000  0.000000  0.000000  0.000000  0.000000  0.000000   \n",
      "38  0.000000  0.000000  0.000000  0.000000  0.000000  0.000000  0.000000   \n",
      "39  0.000000  0.000000  0.000000  0.000000  0.192014  0.384028  0.000000   \n",
      "40  0.000000  0.000000  0.000000  0.000000  0.000000  0.000000  0.000000   \n",
      "41  0.000000  0.000000  0.000000  0.000000  0.000000  0.000000  0.000000   \n",
      "42  0.000000  0.000000  0.000000  0.000000  0.000000  0.000000  0.000000   \n",
      "43  0.000000  0.000000  0.000000  0.000000  0.000000  0.000000  0.000000   \n",
      "44  0.000000  0.000000  0.000000  0.000000  0.000000  0.000000  0.000000   \n",
      "45  0.000000  0.000000  0.000000  0.000000  0.000000  0.000000  0.000000   \n",
      "46  0.000000  0.000000  0.000000  0.000000  0.000000  0.000000  0.000000   \n",
      "47  0.000000  0.282804  0.000000  0.000000  0.000000  0.000000  0.282804   \n",
      "48  0.000000  0.000000  0.000000  0.000000  0.000000  0.000000  0.000000   \n",
      "\n",
      "       37000    800000    accept  ...      week   weighed  welcomed      well  \\\n",
      "0   0.000000  0.000000  0.000000  ...  0.194041  0.000000  0.000000  0.000000   \n",
      "1   0.000000  0.000000  0.000000  ...  0.000000  0.000000  0.000000  0.000000   \n",
      "2   0.000000  0.000000  0.000000  ...  0.000000  0.000000  0.000000  0.000000   \n",
      "3   0.000000  0.000000  0.000000  ...  0.000000  0.000000  0.000000  0.000000   \n",
      "4   0.000000  0.000000  0.000000  ...  0.000000  0.000000  0.000000  0.000000   \n",
      "5   0.000000  0.000000  0.000000  ...  0.000000  0.000000  0.000000  0.000000   \n",
      "6   0.000000  0.189309  0.000000  ...  0.000000  0.000000  0.000000  0.000000   \n",
      "7   0.000000  0.000000  0.000000  ...  0.000000  0.000000  0.000000  0.000000   \n",
      "8   0.000000  0.000000  0.000000  ...  0.000000  0.164091  0.000000  0.000000   \n",
      "9   0.000000  0.000000  0.000000  ...  0.000000  0.000000  0.000000  0.000000   \n",
      "10  0.000000  0.000000  0.000000  ...  0.000000  0.000000  0.000000  0.000000   \n",
      "11  0.000000  0.000000  0.000000  ...  0.000000  0.000000  0.000000  0.000000   \n",
      "12  0.000000  0.000000  0.000000  ...  0.000000  0.000000  0.000000  0.000000   \n",
      "13  0.000000  0.000000  0.000000  ...  0.000000  0.000000  0.000000  0.000000   \n",
      "14  0.000000  0.000000  0.000000  ...  0.000000  0.000000  0.000000  0.000000   \n",
      "15  0.000000  0.000000  0.000000  ...  0.000000  0.000000  0.000000  0.000000   \n",
      "16  0.000000  0.000000  0.000000  ...  0.168139  0.000000  0.000000  0.000000   \n",
      "17  0.000000  0.000000  0.000000  ...  0.000000  0.000000  0.000000  0.000000   \n",
      "18  0.000000  0.000000  0.000000  ...  0.000000  0.000000  0.000000  0.000000   \n",
      "19  0.000000  0.000000  0.000000  ...  0.000000  0.000000  0.000000  0.000000   \n",
      "20  0.000000  0.000000  0.000000  ...  0.000000  0.000000  0.000000  0.000000   \n",
      "21  0.000000  0.000000  0.000000  ...  0.000000  0.000000  0.277264  0.000000   \n",
      "22  0.000000  0.000000  0.000000  ...  0.000000  0.000000  0.000000  0.000000   \n",
      "23  0.000000  0.000000  0.000000  ...  0.000000  0.000000  0.000000  0.000000   \n",
      "24  0.000000  0.000000  0.000000  ...  0.000000  0.000000  0.000000  0.000000   \n",
      "25  0.000000  0.000000  0.000000  ...  0.000000  0.000000  0.000000  0.000000   \n",
      "26  0.000000  0.000000  0.400121  ...  0.000000  0.000000  0.000000  0.000000   \n",
      "27  0.000000  0.000000  0.000000  ...  0.000000  0.000000  0.000000  0.000000   \n",
      "28  0.000000  0.000000  0.000000  ...  0.000000  0.000000  0.000000  0.000000   \n",
      "29  0.000000  0.000000  0.000000  ...  0.000000  0.000000  0.000000  0.000000   \n",
      "30  0.000000  0.000000  0.000000  ...  0.000000  0.000000  0.000000  0.000000   \n",
      "31  0.000000  0.000000  0.000000  ...  0.000000  0.000000  0.000000  0.179645   \n",
      "32  0.000000  0.000000  0.000000  ...  0.000000  0.000000  0.000000  0.000000   \n",
      "33  0.000000  0.000000  0.000000  ...  0.000000  0.000000  0.000000  0.000000   \n",
      "34  0.000000  0.000000  0.000000  ...  0.000000  0.000000  0.000000  0.000000   \n",
      "35  0.000000  0.000000  0.000000  ...  0.000000  0.000000  0.000000  0.000000   \n",
      "36  0.000000  0.000000  0.000000  ...  0.000000  0.000000  0.000000  0.000000   \n",
      "37  0.000000  0.000000  0.000000  ...  0.000000  0.000000  0.000000  0.000000   \n",
      "38  0.000000  0.000000  0.000000  ...  0.231254  0.000000  0.000000  0.000000   \n",
      "39  0.000000  0.000000  0.000000  ...  0.000000  0.000000  0.000000  0.000000   \n",
      "40  0.000000  0.000000  0.000000  ...  0.148554  0.000000  0.000000  0.000000   \n",
      "41  0.000000  0.000000  0.000000  ...  0.000000  0.000000  0.000000  0.000000   \n",
      "42  0.000000  0.000000  0.000000  ...  0.000000  0.000000  0.000000  0.000000   \n",
      "43  0.000000  0.000000  0.000000  ...  0.000000  0.000000  0.000000  0.000000   \n",
      "44  0.000000  0.000000  0.000000  ...  0.000000  0.000000  0.000000  0.000000   \n",
      "45  0.000000  0.000000  0.000000  ...  0.000000  0.000000  0.000000  0.000000   \n",
      "46  0.000000  0.000000  0.000000  ...  0.000000  0.000000  0.000000  0.000000   \n",
      "47  0.000000  0.000000  0.000000  ...  0.000000  0.000000  0.000000  0.000000   \n",
      "48  0.369025  0.000000  0.000000  ...  0.000000  0.000000  0.000000  0.000000   \n",
      "\n",
      "       wider      wish  withdrawal   without      word     would  \n",
      "0   0.000000  0.000000    0.000000  0.000000  0.000000  0.000000  \n",
      "1   0.000000  0.000000    0.000000  0.000000  0.000000  0.323560  \n",
      "2   0.000000  0.000000    0.000000  0.000000  0.000000  0.000000  \n",
      "3   0.000000  0.000000    0.000000  0.000000  0.000000  0.000000  \n",
      "4   0.000000  0.000000    0.000000  0.000000  0.000000  0.000000  \n",
      "5   0.000000  0.000000    0.000000  0.000000  0.000000  0.000000  \n",
      "6   0.000000  0.000000    0.000000  0.000000  0.000000  0.000000  \n",
      "7   0.000000  0.000000    0.000000  0.000000  0.000000  0.000000  \n",
      "8   0.000000  0.000000    0.000000  0.000000  0.000000  0.000000  \n",
      "9   0.000000  0.000000    0.000000  0.000000  0.000000  0.000000  \n",
      "10  0.000000  0.000000    0.000000  0.000000  0.000000  0.000000  \n",
      "11  0.000000  0.000000    0.226599  0.000000  0.000000  0.000000  \n",
      "12  0.000000  0.266297    0.000000  0.000000  0.000000  0.000000  \n",
      "13  0.000000  0.000000    0.000000  0.000000  0.000000  0.000000  \n",
      "14  0.000000  0.000000    0.000000  0.000000  0.000000  0.000000  \n",
      "15  0.000000  0.000000    0.000000  0.000000  0.000000  0.000000  \n",
      "16  0.000000  0.000000    0.000000  0.000000  0.000000  0.000000  \n",
      "17  0.000000  0.000000    0.000000  0.000000  0.000000  0.000000  \n",
      "18  0.000000  0.000000    0.000000  0.000000  0.000000  0.000000  \n",
      "19  0.000000  0.000000    0.000000  0.000000  0.000000  0.000000  \n",
      "20  0.000000  0.000000    0.000000  0.000000  0.000000  0.000000  \n",
      "21  0.000000  0.000000    0.000000  0.000000  0.000000  0.000000  \n",
      "22  0.000000  0.000000    0.256153  0.277054  0.000000  0.000000  \n",
      "23  0.000000  0.000000    0.000000  0.238244  0.000000  0.000000  \n",
      "24  0.000000  0.000000    0.000000  0.000000  0.000000  0.000000  \n",
      "25  0.000000  0.000000    0.000000  0.000000  0.000000  0.000000  \n",
      "26  0.000000  0.000000    0.000000  0.000000  0.000000  0.000000  \n",
      "27  0.000000  0.000000    0.000000  0.000000  0.000000  0.000000  \n",
      "28  0.000000  0.000000    0.000000  0.000000  0.000000  0.000000  \n",
      "29  0.000000  0.000000    0.000000  0.000000  0.322751  0.000000  \n",
      "30  0.000000  0.000000    0.000000  0.000000  0.000000  0.000000  \n",
      "31  0.000000  0.000000    0.150130  0.000000  0.000000  0.000000  \n",
      "32  0.000000  0.000000    0.000000  0.000000  0.000000  0.538545  \n",
      "33  0.000000  0.000000    0.000000  0.000000  0.000000  0.000000  \n",
      "34  0.000000  0.000000    0.000000  0.000000  0.000000  0.000000  \n",
      "35  0.000000  0.000000    0.000000  0.000000  0.000000  0.000000  \n",
      "36  0.000000  0.000000    0.000000  0.000000  0.000000  0.000000  \n",
      "37  0.000000  0.000000    0.000000  0.000000  0.000000  0.000000  \n",
      "38  0.000000  0.000000    0.000000  0.000000  0.000000  0.000000  \n",
      "39  0.000000  0.000000    0.000000  0.000000  0.000000  0.000000  \n",
      "40  0.000000  0.000000    0.000000  0.000000  0.000000  0.000000  \n",
      "41  0.347832  0.000000    0.000000  0.000000  0.000000  0.000000  \n",
      "42  0.000000  0.000000    0.000000  0.000000  0.000000  0.000000  \n",
      "43  0.000000  0.000000    0.000000  0.000000  0.000000  0.000000  \n",
      "44  0.000000  0.000000    0.000000  0.000000  0.000000  0.000000  \n",
      "45  0.000000  0.000000    0.000000  0.000000  0.000000  0.000000  \n",
      "46  0.000000  0.000000    0.000000  0.000000  0.000000  0.000000  \n",
      "47  0.000000  0.000000    0.000000  0.000000  0.000000  0.000000  \n",
      "48  0.000000  0.000000    0.000000  0.000000  0.000000  0.000000  \n",
      "\n",
      "[49 rows x 416 columns]\n"
     ]
    }
   ],
   "source": [
    "vectorizer = TfidfVectorizer()\n",
    "X = vectorizer.fit_transform(normalized_sentences)\n",
    "df = pd.DataFrame(X.toarray(), columns=vectorizer.get_feature_names_out())\n",
    "print(df)\n"
   ]
  },
  {
   "cell_type": "code",
   "execution_count": 7,
   "metadata": {},
   "outputs": [],
   "source": [
    "tokenizer = Tokenizer()\n",
    "tokenizer.fit_on_texts(normalized_sentences)\n",
    "total_words = len(tokenizer.word_index) + 1\n",
    "input_sequences = []\n",
    "for line in normalized_sentences:\n",
    "    token_list = tokenizer.texts_to_sequences([line])[0]\n",
    "    for i in range(1, len(token_list)):\n",
    "        n_gram_sequence = token_list[:i+1]\n",
    "        input_sequences.append(n_gram_sequence)\n",
    "    \n"
   ]
  },
  {
   "cell_type": "code",
   "execution_count": 8,
   "metadata": {},
   "outputs": [],
   "source": [
    "max_sequence_len = max([len(x) for x in input_sequences])\n",
    "input_sequences = np.array(pad_sequences(input_sequences, maxlen=max_sequence_len, padding='pre'))\n"
   ]
  },
  {
   "cell_type": "code",
   "execution_count": 9,
   "metadata": {},
   "outputs": [],
   "source": [
    "X, y = input_sequences[:,:-1], input_sequences[:,-1]\n",
    "y = tf.keras.utils.to_categorical(y, num_classes=total_words)"
   ]
  },
  {
   "cell_type": "code",
   "execution_count": 10,
   "metadata": {},
   "outputs": [
    {
     "name": "stderr",
     "output_type": "stream",
     "text": [
      "c:\\Users\\talme\\Lib\\site-packages\\keras\\src\\layers\\core\\embedding.py:90: UserWarning: Argument `input_length` is deprecated. Just remove it.\n",
      "  warnings.warn(\n"
     ]
    }
   ],
   "source": [
    "# Create RNN model\n",
    "model = Sequential()\n",
    "model.add(Embedding(total_words, 100, input_length=max_sequence_len-1))\n",
    "model.add(SimpleRNN(150))\n",
    "model.add(Dense(total_words, activation='softmax'))\n"
   ]
  },
  {
   "cell_type": "code",
   "execution_count": 11,
   "metadata": {},
   "outputs": [],
   "source": [
    "model.compile(loss='binary_crossentropy', optimizer='adam', metrics=['accuracy'])\n",
    "model.build(input_shape=(None, max_sequence_len-1))\n"
   ]
  },
  {
   "cell_type": "code",
   "execution_count": 12,
   "metadata": {},
   "outputs": [
    {
     "data": {
      "text/html": [
       "<pre style=\"white-space:pre;overflow-x:auto;line-height:normal;font-family:Menlo,'DejaVu Sans Mono',consolas,'Courier New',monospace\"><span style=\"font-weight: bold\">Model: \"sequential\"</span>\n",
       "</pre>\n"
      ],
      "text/plain": [
       "\u001b[1mModel: \"sequential\"\u001b[0m\n"
      ]
     },
     "metadata": {},
     "output_type": "display_data"
    },
    {
     "data": {
      "text/html": [
       "<pre style=\"white-space:pre;overflow-x:auto;line-height:normal;font-family:Menlo,'DejaVu Sans Mono',consolas,'Courier New',monospace\">┏━━━━━━━━━━━━━━━━━━━━━━━━━━━━━━━━━┳━━━━━━━━━━━━━━━━━━━━━━━━┳━━━━━━━━━━━━━━━┓\n",
       "┃<span style=\"font-weight: bold\"> Layer (type)                    </span>┃<span style=\"font-weight: bold\"> Output Shape           </span>┃<span style=\"font-weight: bold\">       Param # </span>┃\n",
       "┡━━━━━━━━━━━━━━━━━━━━━━━━━━━━━━━━━╇━━━━━━━━━━━━━━━━━━━━━━━━╇━━━━━━━━━━━━━━━┩\n",
       "│ embedding (<span style=\"color: #0087ff; text-decoration-color: #0087ff\">Embedding</span>)           │ (<span style=\"color: #00d7ff; text-decoration-color: #00d7ff\">None</span>, <span style=\"color: #00af00; text-decoration-color: #00af00\">46</span>, <span style=\"color: #00af00; text-decoration-color: #00af00\">100</span>)        │        <span style=\"color: #00af00; text-decoration-color: #00af00\">44,300</span> │\n",
       "├─────────────────────────────────┼────────────────────────┼───────────────┤\n",
       "│ simple_rnn (<span style=\"color: #0087ff; text-decoration-color: #0087ff\">SimpleRNN</span>)          │ (<span style=\"color: #00d7ff; text-decoration-color: #00d7ff\">None</span>, <span style=\"color: #00af00; text-decoration-color: #00af00\">150</span>)            │        <span style=\"color: #00af00; text-decoration-color: #00af00\">37,650</span> │\n",
       "├─────────────────────────────────┼────────────────────────┼───────────────┤\n",
       "│ dense (<span style=\"color: #0087ff; text-decoration-color: #0087ff\">Dense</span>)                   │ (<span style=\"color: #00d7ff; text-decoration-color: #00d7ff\">None</span>, <span style=\"color: #00af00; text-decoration-color: #00af00\">443</span>)            │        <span style=\"color: #00af00; text-decoration-color: #00af00\">66,893</span> │\n",
       "└─────────────────────────────────┴────────────────────────┴───────────────┘\n",
       "</pre>\n"
      ],
      "text/plain": [
       "┏━━━━━━━━━━━━━━━━━━━━━━━━━━━━━━━━━┳━━━━━━━━━━━━━━━━━━━━━━━━┳━━━━━━━━━━━━━━━┓\n",
       "┃\u001b[1m \u001b[0m\u001b[1mLayer (type)                   \u001b[0m\u001b[1m \u001b[0m┃\u001b[1m \u001b[0m\u001b[1mOutput Shape          \u001b[0m\u001b[1m \u001b[0m┃\u001b[1m \u001b[0m\u001b[1m      Param #\u001b[0m\u001b[1m \u001b[0m┃\n",
       "┡━━━━━━━━━━━━━━━━━━━━━━━━━━━━━━━━━╇━━━━━━━━━━━━━━━━━━━━━━━━╇━━━━━━━━━━━━━━━┩\n",
       "│ embedding (\u001b[38;5;33mEmbedding\u001b[0m)           │ (\u001b[38;5;45mNone\u001b[0m, \u001b[38;5;34m46\u001b[0m, \u001b[38;5;34m100\u001b[0m)        │        \u001b[38;5;34m44,300\u001b[0m │\n",
       "├─────────────────────────────────┼────────────────────────┼───────────────┤\n",
       "│ simple_rnn (\u001b[38;5;33mSimpleRNN\u001b[0m)          │ (\u001b[38;5;45mNone\u001b[0m, \u001b[38;5;34m150\u001b[0m)            │        \u001b[38;5;34m37,650\u001b[0m │\n",
       "├─────────────────────────────────┼────────────────────────┼───────────────┤\n",
       "│ dense (\u001b[38;5;33mDense\u001b[0m)                   │ (\u001b[38;5;45mNone\u001b[0m, \u001b[38;5;34m443\u001b[0m)            │        \u001b[38;5;34m66,893\u001b[0m │\n",
       "└─────────────────────────────────┴────────────────────────┴───────────────┘\n"
      ]
     },
     "metadata": {},
     "output_type": "display_data"
    },
    {
     "data": {
      "text/html": [
       "<pre style=\"white-space:pre;overflow-x:auto;line-height:normal;font-family:Menlo,'DejaVu Sans Mono',consolas,'Courier New',monospace\"><span style=\"font-weight: bold\"> Total params: </span><span style=\"color: #00af00; text-decoration-color: #00af00\">148,843</span> (581.42 KB)\n",
       "</pre>\n"
      ],
      "text/plain": [
       "\u001b[1m Total params: \u001b[0m\u001b[38;5;34m148,843\u001b[0m (581.42 KB)\n"
      ]
     },
     "metadata": {},
     "output_type": "display_data"
    },
    {
     "data": {
      "text/html": [
       "<pre style=\"white-space:pre;overflow-x:auto;line-height:normal;font-family:Menlo,'DejaVu Sans Mono',consolas,'Courier New',monospace\"><span style=\"font-weight: bold\"> Trainable params: </span><span style=\"color: #00af00; text-decoration-color: #00af00\">148,843</span> (581.42 KB)\n",
       "</pre>\n"
      ],
      "text/plain": [
       "\u001b[1m Trainable params: \u001b[0m\u001b[38;5;34m148,843\u001b[0m (581.42 KB)\n"
      ]
     },
     "metadata": {},
     "output_type": "display_data"
    },
    {
     "data": {
      "text/html": [
       "<pre style=\"white-space:pre;overflow-x:auto;line-height:normal;font-family:Menlo,'DejaVu Sans Mono',consolas,'Courier New',monospace\"><span style=\"font-weight: bold\"> Non-trainable params: </span><span style=\"color: #00af00; text-decoration-color: #00af00\">0</span> (0.00 B)\n",
       "</pre>\n"
      ],
      "text/plain": [
       "\u001b[1m Non-trainable params: \u001b[0m\u001b[38;5;34m0\u001b[0m (0.00 B)\n"
      ]
     },
     "metadata": {},
     "output_type": "display_data"
    },
    {
     "name": "stdout",
     "output_type": "stream",
     "text": [
      "None\n"
     ]
    }
   ],
   "source": [
    "print(model.summary())"
   ]
  },
  {
   "cell_type": "code",
   "execution_count": 13,
   "metadata": {},
   "outputs": [
    {
     "name": "stdout",
     "output_type": "stream",
     "text": [
      "Epoch 1/10\n",
      "\u001b[1m24/24\u001b[0m \u001b[32m━━━━━━━━━━━━━━━━━━━━\u001b[0m\u001b[37m\u001b[0m \u001b[1m3s\u001b[0m 21ms/step - accuracy: 0.0068 - loss: 0.5209\n",
      "Epoch 2/10\n",
      "\u001b[1m24/24\u001b[0m \u001b[32m━━━━━━━━━━━━━━━━━━━━\u001b[0m\u001b[37m\u001b[0m \u001b[1m0s\u001b[0m 17ms/step - accuracy: 6.2576e-04 - loss: 0.0455\n",
      "Epoch 3/10\n",
      "\u001b[1m24/24\u001b[0m \u001b[32m━━━━━━━━━━━━━━━━━━━━\u001b[0m\u001b[37m\u001b[0m \u001b[1m0s\u001b[0m 16ms/step - accuracy: 0.0034 - loss: 0.0205\n",
      "Epoch 4/10\n",
      "\u001b[1m24/24\u001b[0m \u001b[32m━━━━━━━━━━━━━━━━━━━━\u001b[0m\u001b[37m\u001b[0m \u001b[1m0s\u001b[0m 15ms/step - accuracy: 0.0275 - loss: 0.0178\n",
      "Epoch 5/10\n",
      "\u001b[1m24/24\u001b[0m \u001b[32m━━━━━━━━━━━━━━━━━━━━\u001b[0m\u001b[37m\u001b[0m \u001b[1m0s\u001b[0m 14ms/step - accuracy: 0.0268 - loss: 0.0168\n",
      "Epoch 6/10\n",
      "\u001b[1m24/24\u001b[0m \u001b[32m━━━━━━━━━━━━━━━━━━━━\u001b[0m\u001b[37m\u001b[0m \u001b[1m0s\u001b[0m 14ms/step - accuracy: 0.0318 - loss: 0.0163\n",
      "Epoch 7/10\n",
      "\u001b[1m24/24\u001b[0m \u001b[32m━━━━━━━━━━━━━━━━━━━━\u001b[0m\u001b[37m\u001b[0m \u001b[1m0s\u001b[0m 13ms/step - accuracy: 0.0297 - loss: 0.0159\n",
      "Epoch 8/10\n",
      "\u001b[1m24/24\u001b[0m \u001b[32m━━━━━━━━━━━━━━━━━━━━\u001b[0m\u001b[37m\u001b[0m \u001b[1m0s\u001b[0m 13ms/step - accuracy: 0.0236 - loss: 0.0157\n",
      "Epoch 9/10\n",
      "\u001b[1m24/24\u001b[0m \u001b[32m━━━━━━━━━━━━━━━━━━━━\u001b[0m\u001b[37m\u001b[0m \u001b[1m0s\u001b[0m 12ms/step - accuracy: 0.0366 - loss: 0.0155\n",
      "Epoch 10/10\n",
      "\u001b[1m24/24\u001b[0m \u001b[32m━━━━━━━━━━━━━━━━━━━━\u001b[0m\u001b[37m\u001b[0m \u001b[1m0s\u001b[0m 14ms/step - accuracy: 0.0339 - loss: 0.0155\n"
     ]
    }
   ],
   "source": [
    "# Train the model\n",
    "history = model.fit(X, y, epochs=10, verbose=1)"
   ]
  },
  {
   "cell_type": "code",
   "execution_count": 14,
   "metadata": {},
   "outputs": [
    {
     "data": {
      "text/html": [
       "<pre style=\"white-space:pre;overflow-x:auto;line-height:normal;font-family:Menlo,'DejaVu Sans Mono',consolas,'Courier New',monospace\"><span style=\"font-weight: bold\">Model: \"sequential_1\"</span>\n",
       "</pre>\n"
      ],
      "text/plain": [
       "\u001b[1mModel: \"sequential_1\"\u001b[0m\n"
      ]
     },
     "metadata": {},
     "output_type": "display_data"
    },
    {
     "data": {
      "text/html": [
       "<pre style=\"white-space:pre;overflow-x:auto;line-height:normal;font-family:Menlo,'DejaVu Sans Mono',consolas,'Courier New',monospace\">┏━━━━━━━━━━━━━━━━━━━━━━━━━━━━━━━━━┳━━━━━━━━━━━━━━━━━━━━━━━━┳━━━━━━━━━━━━━━━┓\n",
       "┃<span style=\"font-weight: bold\"> Layer (type)                    </span>┃<span style=\"font-weight: bold\"> Output Shape           </span>┃<span style=\"font-weight: bold\">       Param # </span>┃\n",
       "┡━━━━━━━━━━━━━━━━━━━━━━━━━━━━━━━━━╇━━━━━━━━━━━━━━━━━━━━━━━━╇━━━━━━━━━━━━━━━┩\n",
       "│ embedding_1 (<span style=\"color: #0087ff; text-decoration-color: #0087ff\">Embedding</span>)         │ (<span style=\"color: #00d7ff; text-decoration-color: #00d7ff\">None</span>, <span style=\"color: #00af00; text-decoration-color: #00af00\">46</span>, <span style=\"color: #00af00; text-decoration-color: #00af00\">100</span>)        │        <span style=\"color: #00af00; text-decoration-color: #00af00\">44,300</span> │\n",
       "├─────────────────────────────────┼────────────────────────┼───────────────┤\n",
       "│ lstm (<span style=\"color: #0087ff; text-decoration-color: #0087ff\">LSTM</span>)                     │ (<span style=\"color: #00d7ff; text-decoration-color: #00d7ff\">None</span>, <span style=\"color: #00af00; text-decoration-color: #00af00\">150</span>)            │       <span style=\"color: #00af00; text-decoration-color: #00af00\">150,600</span> │\n",
       "├─────────────────────────────────┼────────────────────────┼───────────────┤\n",
       "│ dense_1 (<span style=\"color: #0087ff; text-decoration-color: #0087ff\">Dense</span>)                 │ (<span style=\"color: #00d7ff; text-decoration-color: #00d7ff\">None</span>, <span style=\"color: #00af00; text-decoration-color: #00af00\">443</span>)            │        <span style=\"color: #00af00; text-decoration-color: #00af00\">66,893</span> │\n",
       "└─────────────────────────────────┴────────────────────────┴───────────────┘\n",
       "</pre>\n"
      ],
      "text/plain": [
       "┏━━━━━━━━━━━━━━━━━━━━━━━━━━━━━━━━━┳━━━━━━━━━━━━━━━━━━━━━━━━┳━━━━━━━━━━━━━━━┓\n",
       "┃\u001b[1m \u001b[0m\u001b[1mLayer (type)                   \u001b[0m\u001b[1m \u001b[0m┃\u001b[1m \u001b[0m\u001b[1mOutput Shape          \u001b[0m\u001b[1m \u001b[0m┃\u001b[1m \u001b[0m\u001b[1m      Param #\u001b[0m\u001b[1m \u001b[0m┃\n",
       "┡━━━━━━━━━━━━━━━━━━━━━━━━━━━━━━━━━╇━━━━━━━━━━━━━━━━━━━━━━━━╇━━━━━━━━━━━━━━━┩\n",
       "│ embedding_1 (\u001b[38;5;33mEmbedding\u001b[0m)         │ (\u001b[38;5;45mNone\u001b[0m, \u001b[38;5;34m46\u001b[0m, \u001b[38;5;34m100\u001b[0m)        │        \u001b[38;5;34m44,300\u001b[0m │\n",
       "├─────────────────────────────────┼────────────────────────┼───────────────┤\n",
       "│ lstm (\u001b[38;5;33mLSTM\u001b[0m)                     │ (\u001b[38;5;45mNone\u001b[0m, \u001b[38;5;34m150\u001b[0m)            │       \u001b[38;5;34m150,600\u001b[0m │\n",
       "├─────────────────────────────────┼────────────────────────┼───────────────┤\n",
       "│ dense_1 (\u001b[38;5;33mDense\u001b[0m)                 │ (\u001b[38;5;45mNone\u001b[0m, \u001b[38;5;34m443\u001b[0m)            │        \u001b[38;5;34m66,893\u001b[0m │\n",
       "└─────────────────────────────────┴────────────────────────┴───────────────┘\n"
      ]
     },
     "metadata": {},
     "output_type": "display_data"
    },
    {
     "data": {
      "text/html": [
       "<pre style=\"white-space:pre;overflow-x:auto;line-height:normal;font-family:Menlo,'DejaVu Sans Mono',consolas,'Courier New',monospace\"><span style=\"font-weight: bold\"> Total params: </span><span style=\"color: #00af00; text-decoration-color: #00af00\">261,793</span> (1022.63 KB)\n",
       "</pre>\n"
      ],
      "text/plain": [
       "\u001b[1m Total params: \u001b[0m\u001b[38;5;34m261,793\u001b[0m (1022.63 KB)\n"
      ]
     },
     "metadata": {},
     "output_type": "display_data"
    },
    {
     "data": {
      "text/html": [
       "<pre style=\"white-space:pre;overflow-x:auto;line-height:normal;font-family:Menlo,'DejaVu Sans Mono',consolas,'Courier New',monospace\"><span style=\"font-weight: bold\"> Trainable params: </span><span style=\"color: #00af00; text-decoration-color: #00af00\">261,793</span> (1022.63 KB)\n",
       "</pre>\n"
      ],
      "text/plain": [
       "\u001b[1m Trainable params: \u001b[0m\u001b[38;5;34m261,793\u001b[0m (1022.63 KB)\n"
      ]
     },
     "metadata": {},
     "output_type": "display_data"
    },
    {
     "data": {
      "text/html": [
       "<pre style=\"white-space:pre;overflow-x:auto;line-height:normal;font-family:Menlo,'DejaVu Sans Mono',consolas,'Courier New',monospace\"><span style=\"font-weight: bold\"> Non-trainable params: </span><span style=\"color: #00af00; text-decoration-color: #00af00\">0</span> (0.00 B)\n",
       "</pre>\n"
      ],
      "text/plain": [
       "\u001b[1m Non-trainable params: \u001b[0m\u001b[38;5;34m0\u001b[0m (0.00 B)\n"
      ]
     },
     "metadata": {},
     "output_type": "display_data"
    },
    {
     "name": "stdout",
     "output_type": "stream",
     "text": [
      "None\n"
     ]
    }
   ],
   "source": [
    "ls_model = Sequential()\n",
    "ls_model.add(Embedding(total_words, 100, input_length=max_sequence_len-1))\n",
    "ls_model.add(LSTM(150))\n",
    "ls_model.add(Dense(total_words, activation='softmax'))\n",
    "\n",
    "ls_model.compile(loss='categorical_crossentropy', optimizer='adam', metrics=['accuracy'])\n",
    "ls_model.build(input_shape=(None, max_sequence_len-1))\n",
    "print(ls_model.summary())"
   ]
  },
  {
   "cell_type": "code",
   "execution_count": 15,
   "metadata": {},
   "outputs": [
    {
     "name": "stdout",
     "output_type": "stream",
     "text": [
      "Epoch 1/10\n",
      "\u001b[1m24/24\u001b[0m \u001b[32m━━━━━━━━━━━━━━━━━━━━\u001b[0m\u001b[37m\u001b[0m \u001b[1m3s\u001b[0m 34ms/step - accuracy: 0.0111 - loss: 6.0920\n",
      "Epoch 2/10\n",
      "\u001b[1m24/24\u001b[0m \u001b[32m━━━━━━━━━━━━━━━━━━━━\u001b[0m\u001b[37m\u001b[0m \u001b[1m1s\u001b[0m 39ms/step - accuracy: 0.0195 - loss: 5.9622\n",
      "Epoch 3/10\n",
      "\u001b[1m24/24\u001b[0m \u001b[32m━━━━━━━━━━━━━━━━━━━━\u001b[0m\u001b[37m\u001b[0m \u001b[1m1s\u001b[0m 46ms/step - accuracy: 0.0269 - loss: 5.7634\n",
      "Epoch 4/10\n",
      "\u001b[1m24/24\u001b[0m \u001b[32m━━━━━━━━━━━━━━━━━━━━\u001b[0m\u001b[37m\u001b[0m \u001b[1m1s\u001b[0m 37ms/step - accuracy: 0.0362 - loss: 5.7209\n",
      "Epoch 5/10\n",
      "\u001b[1m24/24\u001b[0m \u001b[32m━━━━━━━━━━━━━━━━━━━━\u001b[0m\u001b[37m\u001b[0m \u001b[1m1s\u001b[0m 36ms/step - accuracy: 0.0325 - loss: 5.7355\n",
      "Epoch 6/10\n",
      "\u001b[1m24/24\u001b[0m \u001b[32m━━━━━━━━━━━━━━━━━━━━\u001b[0m\u001b[37m\u001b[0m \u001b[1m1s\u001b[0m 48ms/step - accuracy: 0.0237 - loss: 5.5853\n",
      "Epoch 7/10\n",
      "\u001b[1m24/24\u001b[0m \u001b[32m━━━━━━━━━━━━━━━━━━━━\u001b[0m\u001b[37m\u001b[0m \u001b[1m1s\u001b[0m 42ms/step - accuracy: 0.0328 - loss: 5.5038\n",
      "Epoch 8/10\n",
      "\u001b[1m24/24\u001b[0m \u001b[32m━━━━━━━━━━━━━━━━━━━━\u001b[0m\u001b[37m\u001b[0m \u001b[1m1s\u001b[0m 45ms/step - accuracy: 0.0280 - loss: 5.2755\n",
      "Epoch 9/10\n",
      "\u001b[1m24/24\u001b[0m \u001b[32m━━━━━━━━━━━━━━━━━━━━\u001b[0m\u001b[37m\u001b[0m \u001b[1m1s\u001b[0m 38ms/step - accuracy: 0.0432 - loss: 5.0844\n",
      "Epoch 10/10\n",
      "\u001b[1m24/24\u001b[0m \u001b[32m━━━━━━━━━━━━━━━━━━━━\u001b[0m\u001b[37m\u001b[0m \u001b[1m1s\u001b[0m 53ms/step - accuracy: 0.0526 - loss: 4.9463\n"
     ]
    }
   ],
   "source": [
    "\n",
    "history = ls_model.fit(X, y, epochs=10, verbose=1)"
   ]
  },
  {
   "cell_type": "code",
   "execution_count": 16,
   "metadata": {},
   "outputs": [
    {
     "name": "stdout",
     "output_type": "stream",
     "text": [
      "Next word prediction: war\n",
      "Next word prediction: war\n"
     ]
    }
   ],
   "source": [
    "# Function to predict the next word\n",
    "def predict_next_word(model, tokenizer, text, max_sequence_len):\n",
    "    token_list = tokenizer.texts_to_sequences([text])[0]\n",
    "    token_list = pad_sequences([token_list], maxlen=max_sequence_len-1, padding='pre')\n",
    "    predicted = model.predict(token_list, verbose=0)\n",
    "    predicted_word = tokenizer.index_word[np.argmax(predicted)]\n",
    "    return predicted_word\n",
    "\n",
    "# Example usage\n",
    "seed_text = \"netanyahu said\"\n",
    "#predict with RNN\n",
    "next_word = predict_next_word(model, tokenizer, seed_text, max_sequence_len)\n",
    "print(f\"Next word prediction: {next_word}\")\n",
    "#predict with LSTM\n",
    "next_word = predict_next_word(ls_model, tokenizer, seed_text, max_sequence_len)\n",
    "print(f\"Next word prediction: {next_word}\")\n",
    "\n"
   ]
  },
  {
   "cell_type": "markdown",
   "metadata": {},
   "source": [
    "Comparing the Predictive Performance of RNN and LSTM Models\n",
    "Findings from the results:\n",
    "\n",
    "Accuracy: Both models had low accuracy, with the LSTM slightly outperforming the RNN.\n",
    "Loss: The RNN had a lower final loss, but this did not translate to higher accuracy, possibly indicating overfitting or insufficient complexity.\n",
    "Model Complexity: LSTMs, designed to handle long-term dependencies, showed better learning capability, though at a higher computational cost."
   ]
  },
  {
   "cell_type": "markdown",
   "metadata": {},
   "source": [
    "KL- Sum Algorithm"
   ]
  },
  {
   "cell_type": "code",
   "execution_count": 17,
   "metadata": {},
   "outputs": [
    {
     "name": "stdout",
     "output_type": "stream",
     "text": [
      "Last month, the UN’s top court ordered Israel to immediately halt its controversial military operation there, calling the humanitarian situation “disastrous\n",
      "”\n",
      "\n",
      "Netanyahu also weighed in on the ongoing negotiations to end the war, saying he was ready to make “a partial deal” with Hamas to return some hostages still being held captive in Gaza, but reiterating his position that the war will still continue after a ceasefire “to achieve the goal of eliminating” Hamas\n",
      " “The end of the fighting in the Gaza Strip, without the release of the hostages, is an unprecedented national failure and a failure to meet the goals of the war,” the Forum said in a statement on Monday\n",
      " Hamas continues to insist that any agreement include, “a clear affirmation of a permanent ceasefire and a complete withdrawal from the Gaza Strip\n",
      "”\n",
      "\n",
      "Shifting north\n",
      "Netanyahu also told Channel 14 Television that “after the end of the intense phase, we will have the possibility to shift some of the power north, and we will do it\n",
      "”\n",
      "\n",
      "“First of all, for protection purposes, and secondly, to bring our residents home as well\n",
      " “The damage is of course the failure to realize the goals of the war, and it is a fatal damage to the national strength of the State of Israel,” he said\n",
      " “I think this requires clarification in light of the turmoil it causes to the families of the hostages\n",
      "”\n",
      "\n",
      "Eisenkot, who – along with centrist opposition figure Benny Gantz – resigned from the war cabinet the week before Netanyahu dissolved it, said the remarks had damaged Israel’s war objectives\n",
      "\n"
     ]
    }
   ],
   "source": [
    "# Function to calculate word frequencies\n",
    "def calculate_word_frequencies(text):\n",
    "    words = re.findall(r'\\w+', text.lower())\n",
    "    return Counter(words)\n",
    "\n",
    "# Calculate word frequencies for the entire text\n",
    "word_frequencies = calculate_word_frequencies(text)\n",
    "\n",
    "# Function to score sentences based on word frequencies\n",
    "def score_sentences(sentences, word_frequencies):\n",
    "    sentence_scores = {}\n",
    "    for sentence in sentences:\n",
    "        words = re.findall(r'\\w+', sentence.lower())\n",
    "        sentence_score = sum(word_frequencies[word] for word in words)\n",
    "        sentence_scores[sentence] = sentence_score\n",
    "    return sentence_scores\n",
    "\n",
    "# Score the sentences\n",
    "sentence_scores = score_sentences(sentences, word_frequencies)\n",
    "\n",
    "# Sort sentences by score and select the top 5\n",
    "ranked_sentences = sorted(sentence_scores, key=sentence_scores.get, reverse=True)\n",
    "summary = ' '.join(ranked_sentences[:5])\n",
    "print('\\n'.join(summary.split('.')))"
   ]
  },
  {
   "cell_type": "markdown",
   "metadata": {},
   "source": [
    "GPT-2 language model"
   ]
  },
  {
   "cell_type": "code",
   "execution_count": 18,
   "metadata": {},
   "outputs": [
    {
     "name": "stdout",
     "output_type": "stream",
     "text": [
      "WARNING:tensorflow:From c:\\Users\\talme\\Lib\\site-packages\\tf_keras\\src\\backend.py:873: The name tf.get_default_graph is deprecated. Please use tf.compat.v1.get_default_graph instead.\n",
      "\n"
     ]
    },
    {
     "name": "stderr",
     "output_type": "stream",
     "text": [
      "All PyTorch model weights were used when initializing TFGPT2LMHeadModel.\n",
      "\n",
      "All the weights of TFGPT2LMHeadModel were initialized from the PyTorch model.\n",
      "If your task is similar to the task the model of the checkpoint was trained on, you can already use TFGPT2LMHeadModel for predictions without further training.\n"
     ]
    }
   ],
   "source": [
    "# Load pre-trained model and tokenizer\n",
    "model_name = 'gpt2'\n",
    "model = TFGPT2LMHeadModel.from_pretrained(model_name)\n",
    "tokenizer = GPT2Tokenizer.from_pretrained(model_name)\n"
   ]
  },
  {
   "cell_type": "code",
   "execution_count": 19,
   "metadata": {},
   "outputs": [],
   "source": [
    "def generate_text(model, tokenizer, prompt, max_length=50):\n",
    "    inputs = tokenizer.encode(prompt, return_tensors='tf')\n",
    "    outputs = model.generate(inputs, max_length=max_length, num_return_sequences=1)\n",
    "    return tokenizer.decode(outputs[0], skip_special_tokens=True)\n",
    "\n",
    "# Partial sentences\n",
    "partial_sentences = [\n",
    "    \"Netanyahu has come under increasing pressure from\",\n",
    "    \"In response to the prime minister’s comments,\",\n",
    "    \"Netanyahu’s positions are a clear confirmation of\",\n",
    "    \"Hamas continues to insist that any agreement include\",\n",
    "    \"The end of the fighting in the Gaza Strip\"\n",
    "]\n"
   ]
  },
  {
   "cell_type": "code",
   "execution_count": 20,
   "metadata": {},
   "outputs": [
    {
     "name": "stderr",
     "output_type": "stream",
     "text": [
      "The attention mask and the pad token id were not set. As a consequence, you may observe unexpected behavior. Please pass your input's `attention_mask` to obtain reliable results.\n",
      "Setting `pad_token_id` to `eos_token_id`:50256 for open-end generation.\n"
     ]
    },
    {
     "name": "stderr",
     "output_type": "stream",
     "text": [
      "The attention mask and the pad token id were not set. As a consequence, you may observe unexpected behavior. Please pass your input's `attention_mask` to obtain reliable results.\n",
      "Setting `pad_token_id` to `eos_token_id`:50256 for open-end generation.\n",
      "The attention mask and the pad token id were not set. As a consequence, you may observe unexpected behavior. Please pass your input's `attention_mask` to obtain reliable results.\n",
      "Setting `pad_token_id` to `eos_token_id`:50256 for open-end generation.\n",
      "The attention mask and the pad token id were not set. As a consequence, you may observe unexpected behavior. Please pass your input's `attention_mask` to obtain reliable results.\n",
      "Setting `pad_token_id` to `eos_token_id`:50256 for open-end generation.\n",
      "The attention mask and the pad token id were not set. As a consequence, you may observe unexpected behavior. Please pass your input's `attention_mask` to obtain reliable results.\n",
      "Setting `pad_token_id` to `eos_token_id`:50256 for open-end generation.\n"
     ]
    },
    {
     "name": "stdout",
     "output_type": "stream",
     "text": [
      "1. Netanyahu has come under increasing pressure from the right to demand that the United States withdraw from the Paris climate accord.\n",
      "\n",
      "The United States has been a major player in the negotiations, and has been a key player in the negotiations.\n",
      "\n",
      "The\n",
      "2. In response to the prime minister’s comments, the government said it would \"continue to work with the government to ensure that the law is followed\".\n",
      "\n",
      "The government said it would also \"continue to work with the government to ensure that the\n",
      "3. Netanyahu’s positions are a clear confirmation of his position on the issue.\n",
      "\n",
      "The Israeli prime minister has been in the spotlight for his support for the Palestinian Authority, which he has called a \"terrorist organization\" and a \"terrorist state\n",
      "4. Hamas continues to insist that any agreement include a Palestinian state.\n",
      "\n",
      "\"The Palestinian Authority has no right to unilaterally decide to establish a state in the West Bank and Gaza Strip,\" Hamas spokesman Sami Abu Zuhri said.\n",
      "\n",
      "\"\n",
      "5. The end of the fighting in the Gaza Strip, which has seen a series of rocket attacks by Israel, has been a major setback for the Palestinian Authority.\n",
      "\n",
      "The Palestinian Authority has been fighting for more than a year to end the siege on Gaza\n"
     ]
    }
   ],
   "source": [
    "completions = [generate_text(model, tokenizer, sentence) for sentence in partial_sentences]\n",
    "for i, completion in enumerate(completions, 1):\n",
    "    print(f\"{i}. {completion}\")"
   ]
  },
  {
   "cell_type": "code",
   "execution_count": 21,
   "metadata": {},
   "outputs": [
    {
     "name": "stderr",
     "output_type": "stream",
     "text": [
      "No model was supplied, defaulted to distilbert/distilbert-base-uncased-finetuned-sst-2-english and revision af0f99b (https://huggingface.co/distilbert/distilbert-base-uncased-finetuned-sst-2-english).\n",
      "Using a pipeline without specifying a model name and revision in production is not recommended.\n",
      "All PyTorch model weights were used when initializing TFDistilBertForSequenceClassification.\n",
      "\n",
      "All the weights of TFDistilBertForSequenceClassification were initialized from the PyTorch model.\n",
      "If your task is similar to the task the model of the checkpoint was trained on, you can already use TFDistilBertForSequenceClassification for predictions without further training.\n"
     ]
    }
   ],
   "source": [
    "sentiment_analysis = pipeline('sentiment-analysis')"
   ]
  },
  {
   "cell_type": "code",
   "execution_count": 22,
   "metadata": {},
   "outputs": [],
   "source": [
    "sentiments = [sentiment_analysis(sentence)[0] for sentence in sentences]"
   ]
  },
  {
   "cell_type": "code",
   "execution_count": 23,
   "metadata": {},
   "outputs": [],
   "source": [
    "sentiment_counts = {'POSITIVE': 0, 'NEGATIVE': 0, 'NEUTRAL': 0}\n",
    "\n",
    "for sentiment in sentiments:\n",
    "    if sentiment['label'] == 'POSITIVE':\n",
    "        sentiment_counts['POSITIVE'] += 1\n",
    "    elif sentiment['label'] == 'NEGATIVE':\n",
    "        sentiment_counts['NEGATIVE'] += 1\n",
    "    else:\n",
    "        sentiment_counts['NEUTRAL'] += 1\n",
    "\n",
    "total_sentences = len(sentences)\n",
    "percentages = {k: (v / total_sentences) * 100 for k, v in sentiment_counts.items()}\n"
   ]
  },
  {
   "cell_type": "code",
   "execution_count": 24,
   "metadata": {},
   "outputs": [
    {
     "name": "stdout",
     "output_type": "stream",
     "text": [
      "Total sentences: 49\n",
      "Positive sentences: 26.53%\n",
      "Negative sentences: 73.47%\n",
      "Neutral sentences: 0.00%\n"
     ]
    },
    {
     "data": {
      "image/png": "[encoded data removed]",
      "text/plain": [
       "<Figure size 640x480 with 1 Axes>"
      ]
     },
     "metadata": {},
     "output_type": "display_data"
    }
   ],
   "source": [
    "print(f\"Total sentences: {total_sentences}\")\n",
    "print(f\"Positive sentences: {percentages['POSITIVE']:.2f}%\")\n",
    "print(f\"Negative sentences: {percentages['NEGATIVE']:.2f}%\")\n",
    "print(f\"Neutral sentences: {percentages['NEUTRAL']:.2f}%\")\n",
    "\n",
    "\n",
    "labels = list(percentages.keys())\n",
    "sizes = list(percentages.values())\n",
    "colors = ['#66b3ff','#ff6666','#ffcc99']\n",
    "explode = (0.1, 0.1, 0.1)  \n",
    "\n",
    "plt.pie(sizes, explode=explode, labels=labels, colors=colors,\n",
    "autopct='%1.1f%%', shadow=True, startangle=140)\n",
    "plt.axis('equal') \n",
    "plt.title(\"Sentiment Distribution\")\n",
    "plt.show()"
   ]
  }
 ],
 "metadata": {
  "kernelspec": {
   "display_name": "Python 3",
   "language": "python",
   "name": "python3"
  },
  "language_info": {
   "codemirror_mode": {
    "name": "ipython",
    "version": 3
   },
   "file_extension": ".py",
   "mimetype": "text/x-python",
   "name": "python",
   "nbconvert_exporter": "python",
   "pygments_lexer": "ipython3",
   "version": "3.12.4"
  }
 },
 "nbformat": 4,
 "nbformat_minor": 2
}
